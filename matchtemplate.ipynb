{
  "nbformat": 4,
  "nbformat_minor": 0,
  "metadata": {
    "colab": {
      "private_outputs": true,
      "provenance": [],
      "authorship_tag": "ABX9TyOl44jl5BQ96ndV0byfS223",
      "include_colab_link": true
    },
    "kernelspec": {
      "name": "python3",
      "display_name": "Python 3"
    },
    "language_info": {
      "name": "python"
    }
  },
  "cells": [
    {
      "cell_type": "markdown",
      "metadata": {
        "id": "view-in-github",
        "colab_type": "text"
      },
      "source": [
        "<a href=\"https://colab.research.google.com/github/marcioreyes/OpenCV_Studies/blob/master/matchtemplate.ipynb\" target=\"_parent\"><img src=\"https://colab.research.google.com/assets/colab-badge.svg\" alt=\"Open In Colab\"/></a>"
      ]
    },
    {
      "cell_type": "code",
      "source": [
        "import cv2 as cv\n",
        "import numpy as np\n",
        "from matplotlib import pyplot as plt"
      ],
      "metadata": {
        "id": "LrKK27tmsM8H"
      },
      "execution_count": null,
      "outputs": []
    },
    {
      "cell_type": "code",
      "execution_count": null,
      "metadata": {
        "id": "so2qoLIdsGG0"
      },
      "outputs": [],
      "source": [
        "img = cv.imread('tela01.png', cv.IMREAD_GRAYSCALE)\n",
        "assert img is not None, \"file could not be read, check with os.path.exists()\"\n",
        "img2 = img.copy()\n",
        "template = cv.imread('./templates/t_preto02.png', cv.IMREAD_GRAYSCALE)\n",
        "assert template is not None, \"file could not be read, check with os.path.exists()\"\n",
        "w, h = template.shape[::-1]\n",
        "\n",
        "# All the 6 methods for comparison in a list\n",
        "methods = ['cv.TM_CCOEFF', 'cv.TM_CCOEFF_NORMED', 'cv.TM_CCORR',\n",
        " 'cv.TM_CCORR_NORMED', 'cv.TM_SQDIFF', 'cv.TM_SQDIFF_NORMED']\n",
        "\n",
        "for meth in methods:\n",
        " img = img2.copy()\n",
        " method = eval(meth)\n",
        "\n",
        " # Apply template Matching\n",
        " res = cv.matchTemplate(img,template,method)\n",
        " min_val, max_val, min_loc, max_loc = cv.minMaxLoc(res)\n",
        "\n",
        " # If the method is TM_SQDIFF or TM_SQDIFF_NORMED, take minimum\n",
        " if method in [cv.TM_SQDIFF, cv.TM_SQDIFF_NORMED]:\n",
        "  top_left = min_loc\n",
        " else:\n",
        "  top_left = max_loc\n",
        "  bottom_right = (top_left[0] + w, top_left[1] + h)\n",
        "\n",
        " cv.rectangle(img,top_left, bottom_right, (255, 0, 0), 7)\n",
        "\n",
        " plt.subplot(121),plt.imshow(res,cmap = 'magma')\n",
        " plt.title('Matching Result'), plt.xticks([]), plt.yticks([])\n",
        " plt.subplot(122),plt.imshow(img,cmap = 'magma')\n",
        " plt.title('Detected Point'), plt.xticks([]), plt.yticks([])\n",
        " plt.suptitle(meth)\n",
        "\n",
        " plt.show()"
      ]
    }
  ]
}